{
 "cells": [
  {
   "cell_type": "markdown",
   "id": "e8740014",
   "metadata": {},
   "source": [
    "# installing needed packages."
   ]
  },
  {
   "cell_type": "code",
   "execution_count": null,
   "id": "6aa2d5a6",
   "metadata": {},
   "outputs": [],
   "source": [
    "! pip install tqdm"
   ]
  },
  {
   "cell_type": "code",
   "execution_count": null,
   "id": "3418c15f",
   "metadata": {},
   "outputs": [],
   "source": [
    "! pip install cv2"
   ]
  },
  {
   "cell_type": "code",
   "execution_count": null,
   "id": "d56bc439",
   "metadata": {},
   "outputs": [],
   "source": [
    "! pip install os"
   ]
  },
  {
   "cell_type": "markdown",
   "id": "b2df4ade",
   "metadata": {},
   "source": [
    "# importing packages."
   ]
  },
  {
   "cell_type": "code",
   "execution_count": 2,
   "id": "c9fab0d8",
   "metadata": {},
   "outputs": [],
   "source": [
    "import numpy as np \n",
    "import cv2\n",
    "import os\n",
    "from tqdm import tqdm\n",
    "import keras\n",
    "from sklearn.model_selection import train_test_split\n",
    "import tensorflow as tf\n",
    "from tensorflow.keras.preprocessing.image import ImageDataGenerator\n",
    "from tensorflow.keras.models import Sequential\n",
    "from tensorflow.keras.callbacks import Callback, EarlyStopping, ReduceLROnPlateau\n",
    "from tensorflow.keras.layers import Conv2D, BatchNormalization, MaxPool2D, Dropout, Flatten, Dense,Cropping2D,Activation,MaxPooling2D\n",
    "from tensorflow.keras.optimizers import Adam"
   ]
  },
  {
   "cell_type": "markdown",
   "id": "3df0f2dc",
   "metadata": {},
   "source": [
    "# loading data."
   ]
  },
  {
   "cell_type": "code",
   "execution_count": 3,
   "id": "8c8d19e7",
   "metadata": {},
   "outputs": [],
   "source": [
    "direc = 'F:/FER/CK+48'\n",
    "CATEGORIES = os.listdir(direc)"
   ]
  },
  {
   "cell_type": "code",
   "execution_count": 4,
   "id": "18494606",
   "metadata": {},
   "outputs": [],
   "source": [
    "def load_data():\n",
    "    DATADIR = direc\n",
    "    data = []\n",
    "    # loading training data\n",
    "    for category in CATEGORIES:\n",
    "        # create path to image of respective expression\n",
    "        path = os.path.join(DATADIR, category)\n",
    "        # get the classification  for each expression \n",
    "        class_num = CATEGORIES.index(category)\n",
    "\n",
    "        for img in tqdm(os.listdir(path)):\n",
    "            img_array = cv2.imread(os.path.join(path, img), 0)\n",
    "            data.append([img_array, class_num])\n",
    "            \n",
    "    return data"
   ]
  },
  {
   "cell_type": "markdown",
   "id": "c430c767",
   "metadata": {},
   "source": [
    "# defining train and test set."
   ]
  },
  {
   "cell_type": "code",
   "execution_count": 5,
   "id": "e2140ff6",
   "metadata": {},
   "outputs": [
    {
     "name": "stderr",
     "output_type": "stream",
     "text": [
      "100%|██████████| 135/135 [00:00<00:00, 2902.53it/s]\n",
      "100%|██████████| 54/54 [00:00<00:00, 3175.85it/s]\n",
      "100%|██████████| 177/177 [00:00<00:00, 2067.90it/s]\n",
      "100%|██████████| 75/75 [00:00<00:00, 3008.45it/s]\n",
      "100%|██████████| 207/207 [00:00<00:00, 2308.29it/s]\n",
      "100%|██████████| 84/84 [00:00<00:00, 1199.98it/s]\n",
      "100%|██████████| 249/249 [00:00<00:00, 2110.29it/s]\n"
     ]
    }
   ],
   "source": [
    "data = load_data()\n",
    "X = np.array([ x[0] for x in data])\n",
    "y = np.array([Y[1] for Y in data])\n",
    "\n",
    "X_train, X_test, y_train, y_test = train_test_split(X, y, test_size=0.25, random_state=50, shuffle = True)\n",
    "X_train = np.expand_dims(X_train, axis=3)\n",
    "X_test = np.expand_dims(X_test, axis=3)\n",
    "X_train = X_train / 255.0\n",
    "X_test = X_test / 255.0\n",
    "\n",
    "y_train = tf.keras.utils.to_categorical(y_train)\n",
    "y_test = tf.keras.utils.to_categorical(y_test)"
   ]
  },
  {
   "cell_type": "markdown",
   "id": "5ef587f1",
   "metadata": {},
   "source": [
    "# CNN Model:"
   ]
  },
  {
   "cell_type": "code",
   "execution_count": 13,
   "id": "f94773bc",
   "metadata": {},
   "outputs": [],
   "source": [
    "model = Sequential()\n",
    "\n",
    "model.add(Conv2D(6, (5,5), padding='same', input_shape=(48,48,1)))\n",
    "model.add(Activation('relu'))\n",
    "model.add(MaxPooling2D(pool_size=(2,2)))\n",
    "\n",
    "model.add(Conv2D(16,(5,5), padding='same'))\n",
    "model.add(Activation('relu'))\n",
    "model.add(MaxPooling2D(pool_size=(2,2)))\n",
    "\n",
    "model.add(Conv2D(64,(3,3), padding='same'))\n",
    "model.add(Activation('relu'))\n",
    "model.add(MaxPooling2D(pool_size=(2,2)))\n",
    "\n",
    "model.add(Flatten())\n",
    "\n",
    "model.add(Dense(128))\n",
    "model.add(Activation('relu'))\n",
    "model.add(Dropout(0.5))\n",
    "\n",
    "model.add(Dense(7, activation='softmax'))\n",
    "\n",
    "METRICS = [\n",
    "      tf.keras.metrics.CategoricalAccuracy(name='accuracy'),\n",
    "      tf.keras.metrics.Precision(name='precision'),\n",
    "      tf.keras.metrics.Recall(name='recall'),  \n",
    "      tf.keras.metrics.AUC(name='auc')\n",
    "]\n",
    "\n",
    "model.compile(loss='categorical_crossentropy', metrics=METRICS, optimizer='adam')"
   ]
  },
  {
   "cell_type": "code",
   "execution_count": 16,
   "id": "d6890f9e",
   "metadata": {},
   "outputs": [],
   "source": [
    "tensorboard_callback = keras.callbacks.TensorBoard(log_dir='tb', histogram_freq=1, )"
   ]
  },
  {
   "cell_type": "code",
   "execution_count": 17,
   "id": "9ddd3881",
   "metadata": {},
   "outputs": [
    {
     "name": "stdout",
     "output_type": "stream",
     "text": [
      "Epoch 1/35\n",
      "37/37 [==============================] - 3s 42ms/step - loss: 1.8688 - accuracy: 0.2490 - precision: 0.0000e+00 - recall: 0.0000e+00 - auc: 0.6370 - val_loss: 1.7705 - val_accuracy: 0.2561 - val_precision: 0.0000e+00 - val_recall: 0.0000e+00 - val_auc: 0.7181\n",
      "Epoch 2/35\n",
      "37/37 [==============================] - 1s 26ms/step - loss: 1.6858 - accuracy: 0.3551 - precision: 0.9583 - recall: 0.0626 - auc: 0.7238 - val_loss: 1.3062 - val_accuracy: 0.6301 - val_precision: 1.0000 - val_recall: 0.2073 - val_auc: 0.8579\n",
      "Epoch 3/35\n",
      "37/37 [==============================] - 1s 25ms/step - loss: 1.2442 - accuracy: 0.5401 - precision: 0.8702 - recall: 0.3374 - auc: 0.8615 - val_loss: 0.9567 - val_accuracy: 0.6992 - val_precision: 0.9717 - val_recall: 0.4187 - val_auc: 0.9334\n",
      "Epoch 4/35\n",
      "37/37 [==============================] - 1s 24ms/step - loss: 0.9712 - accuracy: 0.6313 - precision: 0.8596 - recall: 0.4667 - auc: 0.9205 - val_loss: 0.7012 - val_accuracy: 0.7398 - val_precision: 0.9527 - val_recall: 0.5732 - val_auc: 0.9663\n",
      "Epoch 5/35\n",
      "37/37 [==============================] - 1s 26ms/step - loss: 0.8071 - accuracy: 0.7116 - precision: 0.8574 - recall: 0.5483 - auc: 0.9469 - val_loss: 0.5860 - val_accuracy: 0.8171 - val_precision: 0.9321 - val_recall: 0.6138 - val_auc: 0.9796\n",
      "Epoch 6/35\n",
      "37/37 [==============================] - 1s 27ms/step - loss: 0.7083 - accuracy: 0.7320 - precision: 0.8459 - recall: 0.6122 - auc: 0.9588 - val_loss: 0.5166 - val_accuracy: 0.8130 - val_precision: 0.9497 - val_recall: 0.6911 - val_auc: 0.9827\n",
      "Epoch 7/35\n",
      "37/37 [==============================] - 1s 27ms/step - loss: 0.6316 - accuracy: 0.7673 - precision: 0.8766 - recall: 0.6571 - auc: 0.9670 - val_loss: 0.4667 - val_accuracy: 0.8659 - val_precision: 0.9672 - val_recall: 0.7195 - val_auc: 0.9882\n",
      "Epoch 8/35\n",
      "37/37 [==============================] - 1s 30ms/step - loss: 0.4748 - accuracy: 0.8313 - precision: 0.9274 - recall: 0.7469 - auc: 0.9827 - val_loss: 0.3479 - val_accuracy: 0.8780 - val_precision: 0.9111 - val_recall: 0.8333 - val_auc: 0.9885\n",
      "Epoch 9/35\n",
      "37/37 [==============================] - 1s 25ms/step - loss: 0.4439 - accuracy: 0.8381 - precision: 0.8978 - recall: 0.7646 - auc: 0.9835 - val_loss: 0.3515 - val_accuracy: 0.8496 - val_precision: 0.8973 - val_recall: 0.8171 - val_auc: 0.9883\n",
      "Epoch 10/35\n",
      "37/37 [==============================] - 1s 28ms/step - loss: 0.3903 - accuracy: 0.8517 - precision: 0.8968 - recall: 0.8041 - auc: 0.9878 - val_loss: 0.2814 - val_accuracy: 0.8902 - val_precision: 0.9251 - val_recall: 0.8537 - val_auc: 0.9934\n",
      "Epoch 11/35\n",
      "37/37 [==============================] - 1s 28ms/step - loss: 0.3711 - accuracy: 0.8680 - precision: 0.9038 - recall: 0.8177 - auc: 0.9879 - val_loss: 0.2810 - val_accuracy: 0.8740 - val_precision: 0.9048 - val_recall: 0.8496 - val_auc: 0.9934\n",
      "Epoch 12/35\n",
      "37/37 [==============================] - 1s 28ms/step - loss: 0.3143 - accuracy: 0.8980 - precision: 0.9289 - recall: 0.8531 - auc: 0.9913 - val_loss: 0.2032 - val_accuracy: 0.9390 - val_precision: 0.9615 - val_recall: 0.9146 - val_auc: 0.9973\n",
      "Epoch 13/35\n",
      "37/37 [==============================] - 1s 27ms/step - loss: 0.2991 - accuracy: 0.9020 - precision: 0.9258 - recall: 0.8653 - auc: 0.9921 - val_loss: 0.2286 - val_accuracy: 0.9024 - val_precision: 0.9471 - val_recall: 0.8740 - val_auc: 0.9965\n",
      "Epoch 14/35\n",
      "37/37 [==============================] - 1s 28ms/step - loss: 0.2493 - accuracy: 0.9116 - precision: 0.9435 - recall: 0.8857 - auc: 0.9950 - val_loss: 0.1348 - val_accuracy: 0.9593 - val_precision: 0.9747 - val_recall: 0.9390 - val_auc: 0.9990\n",
      "Epoch 15/35\n",
      "37/37 [==============================] - 1s 29ms/step - loss: 0.1822 - accuracy: 0.9347 - precision: 0.9505 - recall: 0.9143 - auc: 0.9969 - val_loss: 0.1158 - val_accuracy: 0.9675 - val_precision: 0.9752 - val_recall: 0.9593 - val_auc: 0.9991\n",
      "Epoch 16/35\n",
      "37/37 [==============================] - 1s 30ms/step - loss: 0.2146 - accuracy: 0.9279 - precision: 0.9394 - recall: 0.9061 - auc: 0.9961 - val_loss: 0.1560 - val_accuracy: 0.9634 - val_precision: 0.9745 - val_recall: 0.9309 - val_auc: 0.9983\n",
      "Epoch 17/35\n",
      "37/37 [==============================] - 1s 33ms/step - loss: 0.1584 - accuracy: 0.9442 - precision: 0.9621 - recall: 0.9320 - auc: 0.9981 - val_loss: 0.1047 - val_accuracy: 0.9431 - val_precision: 0.9545 - val_recall: 0.9390 - val_auc: 0.9992\n",
      "Epoch 18/35\n",
      "37/37 [==============================] - 1s 27ms/step - loss: 0.1929 - accuracy: 0.9306 - precision: 0.9516 - recall: 0.9088 - auc: 0.9968 - val_loss: 0.0949 - val_accuracy: 0.9634 - val_precision: 0.9834 - val_recall: 0.9634 - val_auc: 0.9995\n",
      "Epoch 19/35\n",
      "37/37 [==============================] - 1s 28ms/step - loss: 0.1848 - accuracy: 0.9320 - precision: 0.9506 - recall: 0.9170 - auc: 0.9971 - val_loss: 0.0929 - val_accuracy: 0.9675 - val_precision: 0.9793 - val_recall: 0.9593 - val_auc: 0.9997\n",
      "Epoch 20/35\n",
      "37/37 [==============================] - 1s 32ms/step - loss: 0.1536 - accuracy: 0.9524 - precision: 0.9634 - recall: 0.9320 - auc: 0.9980 - val_loss: 0.0745 - val_accuracy: 0.9756 - val_precision: 0.9836 - val_recall: 0.9756 - val_auc: 0.9997\n",
      "Epoch 21/35\n",
      "37/37 [==============================] - 1s 38ms/step - loss: 0.1655 - accuracy: 0.9456 - precision: 0.9567 - recall: 0.9320 - auc: 0.9965 - val_loss: 0.0788 - val_accuracy: 0.9837 - val_precision: 0.9876 - val_recall: 0.9675 - val_auc: 0.9998\n",
      "Epoch 22/35\n",
      "37/37 [==============================] - 1s 27ms/step - loss: 0.1295 - accuracy: 0.9551 - precision: 0.9637 - recall: 0.9401 - auc: 0.9987 - val_loss: 0.0633 - val_accuracy: 0.9797 - val_precision: 0.9797 - val_recall: 0.9797 - val_auc: 0.9998\n",
      "Epoch 23/35\n",
      "37/37 [==============================] - 1s 27ms/step - loss: 0.1201 - accuracy: 0.9633 - precision: 0.9682 - recall: 0.9537 - auc: 0.9981 - val_loss: 0.0814 - val_accuracy: 0.9837 - val_precision: 0.9917 - val_recall: 0.9675 - val_auc: 0.9998\n",
      "Epoch 24/35\n",
      "37/37 [==============================] - 1s 27ms/step - loss: 0.1352 - accuracy: 0.9456 - precision: 0.9568 - recall: 0.9347 - auc: 0.9985 - val_loss: 0.0596 - val_accuracy: 0.9837 - val_precision: 0.9836 - val_recall: 0.9756 - val_auc: 0.9997\n",
      "Epoch 25/35\n",
      "37/37 [==============================] - 1s 27ms/step - loss: 0.1126 - accuracy: 0.9633 - precision: 0.9735 - recall: 0.9510 - auc: 0.9990 - val_loss: 0.0659 - val_accuracy: 0.9797 - val_precision: 0.9835 - val_recall: 0.9715 - val_auc: 0.9996\n",
      "Epoch 26/35\n",
      "37/37 [==============================] - 1s 26ms/step - loss: 0.0959 - accuracy: 0.9673 - precision: 0.9736 - recall: 0.9524 - auc: 0.9992 - val_loss: 0.0438 - val_accuracy: 0.9878 - val_precision: 0.9878 - val_recall: 0.9878 - val_auc: 0.9999\n",
      "Epoch 27/35\n",
      "37/37 [==============================] - 1s 28ms/step - loss: 0.1069 - accuracy: 0.9633 - precision: 0.9723 - recall: 0.9537 - auc: 0.9990 - val_loss: 0.0313 - val_accuracy: 0.9878 - val_precision: 0.9959 - val_recall: 0.9837 - val_auc: 1.0000\n",
      "Epoch 28/35\n",
      "37/37 [==============================] - 1s 25ms/step - loss: 0.0815 - accuracy: 0.9728 - precision: 0.9780 - recall: 0.9673 - auc: 0.9995 - val_loss: 0.0336 - val_accuracy: 0.9919 - val_precision: 0.9918 - val_recall: 0.9878 - val_auc: 0.9999\n",
      "Epoch 29/35\n",
      "37/37 [==============================] - 1s 31ms/step - loss: 0.0831 - accuracy: 0.9687 - precision: 0.9699 - recall: 0.9660 - auc: 0.9994 - val_loss: 0.0369 - val_accuracy: 0.9919 - val_precision: 0.9959 - val_recall: 0.9878 - val_auc: 1.0000\n",
      "Epoch 30/35\n",
      "37/37 [==============================] - 1s 26ms/step - loss: 0.1027 - accuracy: 0.9605 - precision: 0.9683 - recall: 0.9565 - auc: 0.9991 - val_loss: 0.0265 - val_accuracy: 0.9959 - val_precision: 0.9959 - val_recall: 0.9919 - val_auc: 1.0000\n",
      "Epoch 31/35\n",
      "37/37 [==============================] - 1s 27ms/step - loss: 0.0978 - accuracy: 0.9605 - precision: 0.9630 - recall: 0.9565 - auc: 0.9991 - val_loss: 0.0461 - val_accuracy: 0.9837 - val_precision: 0.9878 - val_recall: 0.9837 - val_auc: 0.9999\n",
      "Epoch 32/35\n",
      "37/37 [==============================] - 1s 26ms/step - loss: 0.1056 - accuracy: 0.9646 - precision: 0.9724 - recall: 0.9578 - auc: 0.9990 - val_loss: 0.0552 - val_accuracy: 0.9756 - val_precision: 0.9754 - val_recall: 0.9675 - val_auc: 0.9997\n",
      "Epoch 33/35\n",
      "37/37 [==============================] - 1s 27ms/step - loss: 0.0859 - accuracy: 0.9605 - precision: 0.9683 - recall: 0.9565 - auc: 0.9994 - val_loss: 0.0187 - val_accuracy: 0.9959 - val_precision: 0.9959 - val_recall: 0.9959 - val_auc: 1.0000\n",
      "Epoch 34/35\n",
      "37/37 [==============================] - 1s 27ms/step - loss: 0.1054 - accuracy: 0.9605 - precision: 0.9724 - recall: 0.9592 - auc: 0.9983 - val_loss: 0.0270 - val_accuracy: 0.9959 - val_precision: 0.9959 - val_recall: 0.9959 - val_auc: 1.0000\n",
      "Epoch 35/35\n",
      "37/37 [==============================] - 1s 24ms/step - loss: 0.0516 - accuracy: 0.9823 - precision: 0.9863 - recall: 0.9810 - auc: 0.9999 - val_loss: 0.0217 - val_accuracy: 0.9919 - val_precision: 0.9959 - val_recall: 0.9919 - val_auc: 1.0000\n"
     ]
    }
   ],
   "source": [
    "epochs = 35\n",
    "hist = model.fit(X_train, y_train, batch_size=20 , epochs=35, validation_data = (X_test, y_test), callbacks=[tensorboard_callback])"
   ]
  },
  {
   "cell_type": "code",
   "execution_count": null,
   "id": "366c7cd6",
   "metadata": {},
   "outputs": [],
   "source": [
    "# to see tensorboard window, you should run this << tensorboard --logdir tb >> in CMD in the directory of your code!"
   ]
  },
  {
   "cell_type": "markdown",
   "id": "0a95b516",
   "metadata": {},
   "source": [
    "# final accuracy of the model = 99-100 %"
   ]
  },
  {
   "cell_type": "code",
   "execution_count": 5,
   "id": "b9c9a054",
   "metadata": {},
   "outputs": [
    {
     "ename": "NameError",
     "evalue": "name 'model' is not defined",
     "output_type": "error",
     "traceback": [
      "\u001b[1;31m---------------------------------------------------------------------------\u001b[0m",
      "\u001b[1;31mNameError\u001b[0m                                 Traceback (most recent call last)",
      "\u001b[1;32m<ipython-input-5-426cdb748cac>\u001b[0m in \u001b[0;36m<module>\u001b[1;34m\u001b[0m\n\u001b[1;32m----> 1\u001b[1;33m \u001b[0mmodel\u001b[0m\u001b[1;33m.\u001b[0m\u001b[0msave_weights\u001b[0m\u001b[1;33m(\u001b[0m\u001b[1;34m'F:/FER/FER_project/CK+_model.h5'\u001b[0m\u001b[1;33m)\u001b[0m\u001b[1;33m\u001b[0m\u001b[1;33m\u001b[0m\u001b[0m\n\u001b[0m",
      "\u001b[1;31mNameError\u001b[0m: name 'model' is not defined"
     ]
    }
   ],
   "source": [
    "model.save_weights('F:/FER/FER_project/CK+_model.h5')"
   ]
  },
  {
   "cell_type": "markdown",
   "id": "7994676c",
   "metadata": {},
   "source": [
    "# plotting metrics."
   ]
  },
  {
   "cell_type": "code",
   "execution_count": 45,
   "id": "0e331fbc",
   "metadata": {},
   "outputs": [
    {
     "data": {
      "image/png": "[encoded data removed]",
      "text/plain": [
       "<Figure size 792x504 with 1 Axes>"
      ]
     },
     "metadata": {
      "needs_background": "light"
     },
     "output_type": "display_data"
    }
   ],
   "source": [
    "import matplotlib.pyplot as plt\n",
    "import matplotlib\n",
    "plt.figure(figsize=(11,7))\n",
    "plt.plot(hist.history['accuracy'], color='m', linewidth=3.0)\n",
    "plt.plot(hist.history['val_accuracy'], color='c',linewidth=3.0 )\n",
    "plt.plot(hist.history['val_precision'], color='r',linewidth=2.0 )\n",
    "plt.plot(hist.history['val_recall'], color='y',linewidth=2.0 )\n",
    "plt.title('Model Metrics',fontsize = 20 )\n",
    "plt.ylabel('Metrics',fontsize = 20)\n",
    "plt.xlabel('Epochs',fontsize = 20)\n",
    "plt.legend(['accuracy', 'val_accuracy','val_precision','val_recall'], loc='upper left',fontsize = 15)\n",
    "plt.show()"
   ]
  },
  {
   "cell_type": "markdown",
   "id": "d93a9381",
   "metadata": {},
   "source": [
    "# confusion matrix:"
   ]
  },
  {
   "cell_type": "code",
   "execution_count": 15,
   "id": "f9afebad",
   "metadata": {},
   "outputs": [],
   "source": [
    "# first run the cnn model cell. "
   ]
  },
  {
   "cell_type": "code",
   "execution_count": 6,
   "id": "2d1e9f6a",
   "metadata": {},
   "outputs": [
    {
     "ename": "Error",
     "evalue": "Canceled future for execute_request message before replies were done",
     "output_type": "error",
     "traceback": [
      "Error: Canceled future for execute_request message before replies were done",
      "at t.KernelShellFutureHandler.dispose (c:\\Users\\Mina\\.vscode\\extensions\\ms-toolsai.jupyter-2022.3.1000901801\\out\\extension.js:2:1204175)",
      "at c:\\Users\\Mina\\.vscode\\extensions\\ms-toolsai.jupyter-2022.3.1000901801\\out\\extension.js:2:1223227",
      "at Map.forEach (<anonymous>)",
      "at v._clearKernelState (c:\\Users\\Mina\\.vscode\\extensions\\ms-toolsai.jupyter-2022.3.1000901801\\out\\extension.js:2:1223212)",
      "at v.dispose (c:\\Users\\Mina\\.vscode\\extensions\\ms-toolsai.jupyter-2022.3.1000901801\\out\\extension.js:2:1216694)",
      "at c:\\Users\\Mina\\.vscode\\extensions\\ms-toolsai.jupyter-2022.3.1000901801\\out\\extension.js:2:533674",
      "at t.swallowExceptions (c:\\Users\\Mina\\.vscode\\extensions\\ms-toolsai.jupyter-2022.3.1000901801\\out\\extension.js:2:913059)",
      "at dispose (c:\\Users\\Mina\\.vscode\\extensions\\ms-toolsai.jupyter-2022.3.1000901801\\out\\extension.js:2:533652)",
      "at t.RawSession.dispose (c:\\Users\\Mina\\.vscode\\extensions\\ms-toolsai.jupyter-2022.3.1000901801\\out\\extension.js:2:537330)",
      "at runMicrotasks (<anonymous>)",
      "at processTicksAndRejections (node:internal/process/task_queues:96:5)"
     ]
    }
   ],
   "source": [
    "from keras.models import load_model\n",
    "model = load_model('F:/FER/FER_project/CK+_model.h5')"
   ]
  },
  {
   "cell_type": "code",
   "execution_count": 1,
   "id": "cabece03",
   "metadata": {},
   "outputs": [
    {
     "ename": "NameError",
     "evalue": "name 'model' is not defined",
     "output_type": "error",
     "traceback": [
      "\u001b[1;31m---------------------------------------------------------------------------\u001b[0m",
      "\u001b[1;31mNameError\u001b[0m                                 Traceback (most recent call last)",
      "\u001b[1;32m<ipython-input-1-acc519fcce62>\u001b[0m in \u001b[0;36m<module>\u001b[1;34m\u001b[0m\n\u001b[1;32m----> 1\u001b[1;33m \u001b[0mmodel\u001b[0m\u001b[1;33m.\u001b[0m\u001b[0mevaluate\u001b[0m\u001b[1;33m(\u001b[0m\u001b[0mX_test\u001b[0m\u001b[1;33m,\u001b[0m \u001b[0my_test\u001b[0m\u001b[1;33m)\u001b[0m\u001b[1;33m\u001b[0m\u001b[1;33m\u001b[0m\u001b[0m\n\u001b[0m",
      "\u001b[1;31mNameError\u001b[0m: name 'model' is not defined"
     ]
    }
   ],
   "source": [
    "model.evaluate(X_test, y_test)"
   ]
  },
  {
   "cell_type": "code",
   "execution_count": 9,
   "id": "c48349e2",
   "metadata": {},
   "outputs": [
    {
     "ename": "Error",
     "evalue": "Canceled future for execute_request message before replies were done",
     "output_type": "error",
     "traceback": [
      "Error: Canceled future for execute_request message before replies were done",
      "at t.KernelShellFutureHandler.dispose (c:\\Users\\Mina\\.vscode\\extensions\\ms-toolsai.jupyter-2022.3.1000901801\\out\\extension.js:2:1204175)",
      "at c:\\Users\\Mina\\.vscode\\extensions\\ms-toolsai.jupyter-2022.3.1000901801\\out\\extension.js:2:1223227",
      "at Map.forEach (<anonymous>)",
      "at v._clearKernelState (c:\\Users\\Mina\\.vscode\\extensions\\ms-toolsai.jupyter-2022.3.1000901801\\out\\extension.js:2:1223212)",
      "at v.dispose (c:\\Users\\Mina\\.vscode\\extensions\\ms-toolsai.jupyter-2022.3.1000901801\\out\\extension.js:2:1216694)",
      "at c:\\Users\\Mina\\.vscode\\extensions\\ms-toolsai.jupyter-2022.3.1000901801\\out\\extension.js:2:533674",
      "at t.swallowExceptions (c:\\Users\\Mina\\.vscode\\extensions\\ms-toolsai.jupyter-2022.3.1000901801\\out\\extension.js:2:913059)",
      "at dispose (c:\\Users\\Mina\\.vscode\\extensions\\ms-toolsai.jupyter-2022.3.1000901801\\out\\extension.js:2:533652)",
      "at t.RawSession.dispose (c:\\Users\\Mina\\.vscode\\extensions\\ms-toolsai.jupyter-2022.3.1000901801\\out\\extension.js:2:537330)",
      "at runMicrotasks (<anonymous>)",
      "at processTicksAndRejections (node:internal/process/task_queues:96:5)"
     ]
    }
   ],
   "source": [
    "y_pred = model.predict(X_test)\n",
    "labels = ['angry','neutral','disgust','fear','happy','sad','surprise']\n",
    "from sklearn.metrics import confusion_matrix\n",
    "cm = confusion_matrix(tf.argmax(y_test, axis = 1), tf.argmax(y_pred, axis = 1))"
   ]
  },
  {
   "cell_type": "code",
   "execution_count": 19,
   "id": "000d077a",
   "metadata": {},
   "outputs": [
    {
     "data": {
      "image/png": "[encoded data removed]",
      "text/plain": [
       "<Figure size 576x504 with 2 Axes>"
      ]
     },
     "metadata": {},
     "output_type": "display_data"
    }
   ],
   "source": [
    "import seaborn as sns\n",
    "import matplotlib.pyplot as plt\n",
    "import pandas as pd\n",
    "DetaFrame_cm = pd.DataFrame(cm, range(7), range(7))\n",
    "p = sns.heatmap(DetaFrame_cm , cmap='Purples',annot=True)\n",
    "p.set_title(\"Confusion Matrix\",fontsize = 20)\n",
    "sns.set(rc = {'figure.figsize':(8,7)})\n",
    "sns.set(font_scale = 1)\n",
    "p.set_yticklabels(labels, size = 13)\n",
    "p.set_xticklabels(labels, size = 13)\n",
    "p.set_xlabel(\"Y_True\", fontsize = 15)\n",
    "p.set_ylabel(\"Y-Pred\", fontsize = 15)\n",
    "plt.show()"
   ]
  },
  {
   "cell_type": "markdown",
   "id": "fff1d127",
   "metadata": {},
   "source": [
    "# emotion recognetion trough webcam:"
   ]
  },
  {
   "cell_type": "code",
   "execution_count": null,
   "id": "4fdc6cbd",
   "metadata": {},
   "outputs": [],
   "source": [
    "emotion =  ['Anger', 'Neutral' ,'Disgust', 'Fear', 'Happy', 'Sad', 'Surprise']\n",
    "\n",
    "model = keras.models.load_model(\"./CK+_model.h5\")\n",
    "font = cv2.FONT_HERSHEY_SIMPLEX\n",
    "cam = cv2.VideoCapture(0)\n",
    "face_cas = cv2.CascadeClassifier('./cascades/haarcascade_frontalface_default.xml')\n",
    "\n",
    "while True:\n",
    "    ret, frame = cam.read()\n",
    "    \n",
    "    if ret==True:\n",
    "        gray = cv2.cvtColor(frame, cv2.COLOR_BGR2GRAY)\n",
    "        #gray = cv2.flip(gray,1)\n",
    "        faces = face_cas.detectMultiScale(gray, 1.3,5)\n",
    "        \n",
    "        for (x, y, w, h) in faces:\n",
    "            face_component = gray[y:y+h, x:x+w]\n",
    "            fc = cv2.resize(face_component, (48, 48))\n",
    "            inp = np.reshape(fc,(1,48,48,1)).astype(np.float32)\n",
    "            inp = inp/255.\n",
    "            prediction = model.predict(inp)\n",
    "            em = emotion[np.argmax(prediction)]\n",
    "            score = np.max(prediction)\n",
    "            cv2.putText(frame, em+\"  \"+str(score*100)+'%', (x, y), font, 1, (0, 255, 0), 2)\n",
    "            cv2.rectangle(frame, (x, y), (x+w, y+h), (0, 0, 255), 2)\n",
    "        cv2.imshow(\"image\", frame)\n",
    "        \n",
    "        if cv2.waitKey(1) == 27:\n",
    "            break\n",
    "    else:\n",
    "        print ('Error')\n",
    "\n",
    "cam.release()\n",
    "cv2.destroyAllWindows()"
   ]
  },
  {
   "cell_type": "code",
   "execution_count": null,
   "id": "626e72f5",
   "metadata": {},
   "outputs": [],
   "source": []
  }
 ],
 "metadata": {
  "kernelspec": {
   "display_name": "Python 3",
   "language": "python",
   "name": "python3"
  },
  "language_info": {
   "codemirror_mode": {
    "name": "ipython",
    "version": 3
   },
   "file_extension": ".py",
   "mimetype": "text/x-python",
   "name": "python",
   "nbconvert_exporter": "python",
   "pygments_lexer": "ipython3",
   "version": "3.8.5"
  }
 },
 "nbformat": 4,
 "nbformat_minor": 5
}
